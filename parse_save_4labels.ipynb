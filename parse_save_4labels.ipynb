{
 "cells": [
  {
   "cell_type": "code",
   "execution_count": 1,
   "id": "placed-regular",
   "metadata": {},
   "outputs": [],
   "source": [
    "import os\n",
    "import glob\n",
    "import napari\n",
    "import numpy as np\n",
    "from PIL import Image\n",
    "from matplotlib import image\n",
    "from matplotlib import pyplot as plt \n",
    "from tifffile import imread, imwrite\n",
    "from sklearn.model_selection import train_test_split"
   ]
  },
  {
   "cell_type": "code",
   "execution_count": null,
   "id": "dc49c325",
   "metadata": {},
   "outputs": [],
   "source": [
    "folder  = 'nuclie00'\n",
    "training_imgs,training_masks = [], []\n",
    "\n",
    "for file in glob.glob(\"mem/images/*.jpg\"):\n",
    "    training_imgs.append(file)\n",
    "for file in glob.glob(\"mem/masks/*.tiff\"):\n",
    "    training_masks.append(file)\n",
    "    \n",
    "training_imgs = sorted(training_imgs)\n",
    "training_masks = sorted(training_masks)\n",
    "\n",
    "\n",
    "train_imgs = []\n",
    "for j in range(len(training_imgs)):\n",
    "    img = Image.open(training_imgs[j])\n",
    "   \n",
    "    img.load()\n",
    "    img = np.array(img, dtype='float32')\n",
    "    train_imgs.append(img)\n",
    " \n",
    "train_imgs = np.array(train_imgs)\n",
    "print(train_imgs.shape, train_imgs.dtype)\n",
    "\n",
    "train_masks = []\n",
    "for j in range(len(training_masks)):\n",
    "    img = Image.open(training_masks[j])\n",
    "    \n",
    "    img.load()\n",
    "    img = np.array(img, dtype='uint8')\n",
    "    train_masks.append(img)\n",
    " \n",
    "train_masks = np.array(train_masks)\n",
    "print(train_masks.shape, train_masks.dtype)\n",
    "\n",
    "viewer = napari.view_image(train_imgs, colormap='gray', name='nucl1')\n",
    "viewer.add_labels(train_masks, name='mask_final')"
   ]
  },
  {
   "cell_type": "code",
   "execution_count": 7,
   "id": "6095c859",
   "metadata": {},
   "outputs": [],
   "source": [
    "training_imgs = sorted(training_imgs)\n",
    "training_masks = sorted(training_masks)"
   ]
  },
  {
   "cell_type": "code",
   "execution_count": 8,
   "id": "07800adb",
   "metadata": {
    "scrolled": false
   },
   "outputs": [],
   "source": [
    "training_imgs, testing_imgs, training_masks, testing_masks = train_test_split(training_imgs, training_masks, test_size = 0.1, random_state = 0)"
   ]
  },
  {
   "cell_type": "code",
   "execution_count": null,
   "id": "ancient-facing",
   "metadata": {},
   "outputs": [],
   "source": [
    "print('Num training imgs:  ', len(training_imgs))\n",
    "print('Num training masks: ', len(training_masks))\n",
    "print('Num testing imgs:   ', len(testing_imgs))\n",
    "print('Num testing masks:  ', len(testing_masks))"
   ]
  },
  {
   "cell_type": "code",
   "execution_count": 4,
   "id": "unable-bunch",
   "metadata": {},
   "outputs": [],
   "source": [
    "def flip_labels(img):\n",
    "    \"\"\"\n",
    "    For mask images with inverted nucleous and chromosome labels \n",
    "    \"\"\"\n",
    "    #ind = (img==1)\n",
    "    #img[ind] = 3\n",
    "    \n",
    "    ind_1,ind_2 = (img==1),(img==2)\n",
    "    img[ind_1] = 2\n",
    "    img[ind_2] = 1\n",
    "    \n",
    "    return img"
   ]
  },
  {
   "cell_type": "code",
   "execution_count": 10,
   "id": "brown-scott",
   "metadata": {},
   "outputs": [],
   "source": [
    "def add_label(mask, img, limit=0):\n",
    "    \"\"\"\n",
    "    Adds a fourth layer for background that is outside of cell.\n",
    "    \n",
    "    Any pixel value below the 'limit' thresholding value is sent to class it's own class, \n",
    "    preserving the class of nucleous background pixels.\n",
    "    \"\"\"\n",
    "\n",
    "    ind = (img <= limit)\n",
    "    mask[ind] = -1\n",
    "    \n",
    "    mask = mask + 1\n",
    "    \n",
    "    return mask"
   ]
  },
  {
   "cell_type": "markdown",
   "id": "orange-motivation",
   "metadata": {},
   "source": [
    "### Create multiple training sets of images in form of numpy arrays\n",
    "\n",
    "- train_imgs preserves original dimensions\n",
    "- train_imgs2 decreases resolution by a factor of 2\n",
    "- train_imgs4 decreases resolution by a factor of 4"
   ]
  },
  {
   "cell_type": "code",
   "execution_count": null,
   "id": "brilliant-sample",
   "metadata": {},
   "outputs": [],
   "source": [
    "train_imgs = []\n",
    "train_imgs2 = []\n",
    "train_imgs4 = []\n",
    "\n",
    "for j in range(len(training_imgs)):\n",
    "    img = Image.open(training_imgs[j])\n",
    "    img = img.resize((1700,1700))\n",
    "    img2 = img.resize((1000,1000))\n",
    "    img4 = img.resize((500,500))\n",
    "    img.load()\n",
    "    img2.load()\n",
    "    img4.load()\n",
    "    \n",
    "    img = np.array(img, dtype='float32')\n",
    "    img2 = np.array(img2, dtype='float32')\n",
    "    img4 = np.array(img4, dtype='float32')\n",
    "    train_imgs.append(img)\n",
    "    train_imgs2.append(img2)\n",
    "    train_imgs4.append(img4)\n",
    "\n",
    "train_imgs = np.array(train_imgs)\n",
    "train_imgs2 = np.array(train_imgs2)\n",
    "train_imgs4 = np.array(train_imgs4)\n",
    "\n",
    "print(train_imgs.shape, train_imgs.dtype)\n",
    "print(train_imgs2.shape, train_imgs2.dtype)\n",
    "print(train_imgs4.shape, train_imgs4.dtype)"
   ]
  },
  {
   "cell_type": "code",
   "execution_count": null,
   "id": "05e0dd98",
   "metadata": {},
   "outputs": [],
   "source": [
    "viewer = napari.view_image(train_imgs, colormap='gray', name='nucl1')\n",
    "viewer.add_labels(train_masks, name='mask_final')"
   ]
  },
  {
   "cell_type": "markdown",
   "id": "insured-slovak",
   "metadata": {},
   "source": [
    "### Create multiple testing sets of images in form of numpy arrays\n",
    "\n",
    "As above, three sets are created with varying resolution"
   ]
  },
  {
   "cell_type": "code",
   "execution_count": null,
   "id": "headed-oasis",
   "metadata": {},
   "outputs": [],
   "source": [
    "test_imgs = []\n",
    "test_imgs2 = []\n",
    "test_imgs4 = []\n",
    "\n",
    "for j in range(len(testing_imgs)):\n",
    "    img = Image.open(testing_imgs[j])\n",
    "    img = img.resize((1700,1700))\n",
    "    img2 = img.resize((1000,1000))\n",
    "    img4 = img.resize((500,500))\n",
    "\n",
    "    img.load()\n",
    "    img2.load()\n",
    "    img4.load()\n",
    "    \n",
    "    img = np.array(img, dtype='float32')\n",
    "    img2 = np.array(img2, dtype='float32')\n",
    "    img4 = np.array(img4, dtype='float32')\n",
    "\n",
    "    test_imgs.append(img)\n",
    "    test_imgs2.append(img2)\n",
    "    test_imgs4.append(img4)\n",
    "    \n",
    "test_imgs = np.array(test_imgs)\n",
    "test_imgs2 = np.array(test_imgs2)\n",
    "test_imgs4 = np.array(test_imgs4)\n",
    "\n",
    "print(test_imgs.shape, test_imgs.dtype)\n",
    "print(test_imgs2.shape, test_imgs2.dtype)\n",
    "print(test_imgs4.shape, test_imgs4.dtype)"
   ]
  },
  {
   "cell_type": "code",
   "execution_count": null,
   "id": "innovative-basement",
   "metadata": {},
   "outputs": [],
   "source": [
    "# These are testing images with no masks\n",
    "\n",
    "test_noGT = []\n",
    "test_noGT2 = []\n",
    "test_noGT4 = []\n",
    "\n",
    "for j in range(len(testing_noGT)):\n",
    "    img = Image.open(testing_noGT[j])\n",
    "    \n",
    "    img2 = img.resize((1000,1000))\n",
    "    img4 = img.resize((500,500))\n",
    "\n",
    "    img.load()\n",
    "    img2.load()\n",
    "    img4.load()\n",
    "    \n",
    "    img = np.array(img, dtype='float32')\n",
    "    img2 = np.array(img2, dtype='float32')\n",
    "    img4 = np.array(img4, dtype='float32')\n",
    "\n",
    "    test_noGT.append(img)\n",
    "    test_noGT2.append(img2)\n",
    "    test_noGT4.append(img4)\n",
    "    \n",
    "test_noGT = np.array(test_noGT)\n",
    "test_noGT2 = np.array(test_noGT2)\n",
    "test_noGT4 = np.array(test_noGT4)\n",
    "\n",
    "print(test_noGT.shape, test_noGT.dtype)\n",
    "print(test_noGT2.shape, test_noGT2.dtype)\n",
    "print(test_noGT4.shape, test_noGT4.dtype)"
   ]
  },
  {
   "cell_type": "markdown",
   "id": "loaded-register",
   "metadata": {},
   "source": [
    "### Creates multiple training sets of image masks \n",
    "\n",
    "Notes: \n",
    "- all masks have additional class added non-cell background (lines 29-31)"
   ]
  },
  {
   "cell_type": "code",
   "execution_count": null,
   "id": "favorite-jewel",
   "metadata": {},
   "outputs": [],
   "source": [
    "train_masks = []\n",
    "train_masks2 = []\n",
    "train_masks4 = []\n",
    "\n",
    "limit=150\n",
    "\n",
    "for j in range(len(training_masks)):\n",
    "    img = Image.open(training_masks[j])\n",
    "    \n",
    "\n",
    "    img = img.resize((1700,1700))    \n",
    "    img2 = img.resize((1000,1000))\n",
    "    img4 = img.resize((500,500))\n",
    "\n",
    "    img.load()\n",
    "    img2.load()\n",
    "    img4.load()\n",
    "    \n",
    "    img = np.array(img, dtype='uint8')\n",
    "    img2 = np.array(img2, dtype='uint8')\n",
    "    img4 = np.array(img4, dtype='uint8')\n",
    "    \n",
    "    # correct any flipped labels\n",
    "    # if j in [6,24,27,30,39]:\n",
    "    #     img = flip_labels(img)\n",
    "    #     img2 = flip_labels(img2)\n",
    "    #     img4 = flip_labels(img4)\n",
    "    # #   continue\n",
    "\n",
    "    img = add_label(img, train_imgs[j,:], limit=limit)\n",
    "    img2 = add_label(img2, train_imgs2[j,:], limit=limit)\n",
    "    img4 = add_label(img4, train_imgs4[j,:], limit=limit)\n",
    "                    \n",
    "    train_masks.append(img)\n",
    "    train_masks2.append(img2)\n",
    "    train_masks4.append(img4)\n",
    "\n",
    "train_masks = np.array(train_masks)\n",
    "train_masks2 = np.array(train_masks2)\n",
    "train_masks4 = np.array(train_masks4)\n",
    "\n",
    "print(train_masks.shape, train_masks.dtype)\n",
    "print(train_masks2.shape, train_masks2.dtype)\n",
    "print(train_masks4.shape, train_masks4.dtype)"
   ]
  },
  {
   "cell_type": "code",
   "execution_count": null,
   "id": "rational-thriller",
   "metadata": {},
   "outputs": [],
   "source": [
    "viewer = napari.view_image(train_imgs, colormap='gray', name='nucl1')\n",
    "viewer.add_labels(train_masks, name='mask_final')"
   ]
  },
  {
   "cell_type": "markdown",
   "id": "democratic-protein",
   "metadata": {},
   "source": [
    "### Creates multiple testing sets of image masks\n",
    "\n",
    "Notes:\n",
    "- masks 23 and 59 had inverted labels (this is corrected with flip_labels()\n",
    "- all masks have additional class added non-cell background (lines 29-31)"
   ]
  },
  {
   "cell_type": "code",
   "execution_count": null,
   "id": "deadly-queensland",
   "metadata": {},
   "outputs": [],
   "source": [
    "test_masks = []\n",
    "test_masks2 = []\n",
    "test_masks4 = []\n",
    "\n",
    "limit=150\n",
    "\n",
    "for j in range(len(testing_masks)):\n",
    "    img = Image.open(testing_masks[j])\n",
    "    \n",
    "    img = img.resize((1700,1700))\n",
    "    img2 = img.resize((1000,1000))\n",
    "    img4 = img.resize((500,500))\n",
    "\n",
    "    img.load()\n",
    "    img2.load()\n",
    "    img4.load()\n",
    "    \n",
    "    img = np.array(img, dtype='uint8')\n",
    "    img2 = np.array(img2, dtype='uint8')\n",
    "    img4 = np.array(img4, dtype='uint8')\n",
    "    \n",
    "    img = add_label(img, test_imgs[j,:], limit=limit)\n",
    "    img2 = add_label(img2, test_imgs2[j,:], limit=limit)\n",
    "    img4 = add_label(img4, test_imgs4[j,:], limit=limit)\n",
    "                    \n",
    "    test_masks.append(img)\n",
    "    test_masks2.append(img2)\n",
    "    test_masks4.append(img4)\n",
    "\n",
    "test_masks = np.array(test_masks)\n",
    "test_masks2 = np.array(test_masks2)\n",
    "test_masks4 = np.array(test_masks4)\n",
    "\n",
    "print(test_masks.shape, test_masks.dtype)\n",
    "print(test_masks2.shape, test_masks2.dtype)\n",
    "print(test_masks4.shape, test_masks4.dtype)"
   ]
  },
  {
   "cell_type": "markdown",
   "id": "funny-generation",
   "metadata": {},
   "source": [
    "### We verify the number of labels in the masks has increased to 4"
   ]
  },
  {
   "cell_type": "code",
   "execution_count": null,
   "id": "major-barbados",
   "metadata": {},
   "outputs": [],
   "source": [
    "print('Num of unique train mask values: ', len(np.unique(train_masks[0:3,...])))\n",
    "print(np.unique(train_masks[0:3,...]))"
   ]
  },
  {
   "cell_type": "code",
   "execution_count": null,
   "id": "respected-blake",
   "metadata": {},
   "outputs": [],
   "source": [
    "print('Num of unique test mask values: ', len(np.unique(test_masks[0:13,...])))\n",
    "print(np.unique(test_masks[0:13,...]))"
   ]
  },
  {
   "cell_type": "markdown",
   "id": "ultimate-knight",
   "metadata": {},
   "source": [
    "### This histogram justifies the background threshold value of limit=150"
   ]
  },
  {
   "cell_type": "code",
   "execution_count": null,
   "id": "respective-assumption",
   "metadata": {},
   "outputs": [],
   "source": [
    "for j in range(1):\n",
    "    \n",
    "    plt.figure(figsize=(12,5))\n",
    "    plt.rcParams.update({'font.size': 14})\n",
    "    plt.hist((train_imgs[j,:,:].flatten()), bins=20); plt.title('Histogram'); \n",
    "    plt.xlabel('Frequency')\n",
    "    plt.ylabel('Pixel intensity')\n",
    "    plt.show()\n",
    "    "
   ]
  },
  {
   "cell_type": "markdown",
   "id": "anonymous-douglas",
   "metadata": {},
   "source": [
    "### Options for viewing data"
   ]
  },
  {
   "cell_type": "code",
   "execution_count": 41,
   "id": "amino-reducing",
   "metadata": {},
   "outputs": [
    {
     "data": {
      "text/plain": [
       "<Labels layer 'mask_final' at 0x7f0345ce1fa0>"
      ]
     },
     "execution_count": 41,
     "metadata": {},
     "output_type": "execute_result"
    }
   ],
   "source": [
    "viewer = napari.view_image(test_imgs, colormap='gray', name='nucl1')\n",
    "viewer.add_labels(test_masks, name='mask_final')"
   ]
  },
  {
   "cell_type": "code",
   "execution_count": null,
   "id": "circular-publicity",
   "metadata": {
    "scrolled": true
   },
   "outputs": [],
   "source": [
    "plt.figure(figsize=(10,4))\n",
    "plt.rcParams.update({'font.size': 16})\n",
    "\n",
    "plt.imshow(test_masks[1,6:,:])\n",
    "\n",
    "plt.tight_layout()\n",
    "plt.show()"
   ]
  },
  {
   "cell_type": "markdown",
   "id": "provincial-endorsement",
   "metadata": {},
   "source": [
    "### Finally, we save data in in a path consistent with the train_and_segment script"
   ]
  },
  {
   "cell_type": "code",
   "execution_count": 38,
   "id": "central-canon",
   "metadata": {},
   "outputs": [],
   "source": [
    "resultpath = 'training_processed_images_mem/raw'\n",
    "if os.path.isdir(resultpath) is False:\n",
    "    os.mkdir(resultpath)\n",
    "imwrite(resultpath + '/train.tif', train_imgs)\n",
    "imwrite(resultpath + '/masks.tif', train_masks)\n",
    "imwrite(resultpath + '/test.tif', test_imgs)\n",
    "imwrite(resultpath + '/test_masks.tif', test_masks)\n",
    "\n",
    "resultpath = 'training_processed_images_mem/factor2'\n",
    "if os.path.isdir(resultpath) is False:\n",
    "    os.mkdir(resultpath)\n",
    "imwrite(resultpath + '/train.tif', train_imgs2)\n",
    "imwrite(resultpath + '/masks.tif', train_masks2)\n",
    "imwrite(resultpath + '/test.tif', test_imgs2)\n",
    "imwrite(resultpath + '/test_masks.tif', test_masks2)\n",
    "\n",
    "resultpath = 'training_processed_images_mem/factor4'\n",
    "if os.path.isdir(resultpath) is False:\n",
    "    os.mkdir(resultpath)\n",
    "imwrite(resultpath + '/train.tif', train_imgs4)\n",
    "imwrite(resultpath + '/masks.tif', train_masks4)\n",
    "imwrite(resultpath + '/test.tif', test_imgs4)\n",
    "imwrite(resultpath + '/test_masks.tif', test_masks4)"
   ]
  }
 ],
 "metadata": {
  "kernelspec": {
   "display_name": "Python 3 (ipykernel)",
   "language": "python",
   "name": "python3"
  },
  "language_info": {
   "codemirror_mode": {
    "name": "ipython",
    "version": 3
   },
   "file_extension": ".py",
   "mimetype": "text/x-python",
   "name": "python",
   "nbconvert_exporter": "python",
   "pygments_lexer": "ipython3",
   "version": "3.8.10"
  }
 },
 "nbformat": 4,
 "nbformat_minor": 5
}
