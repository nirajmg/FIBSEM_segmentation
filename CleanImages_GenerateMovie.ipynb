{
 "cells": [
  {
   "cell_type": "code",
   "execution_count": 1,
   "id": "chinese-fifth",
   "metadata": {},
   "outputs": [],
   "source": [
    "import numpy as np\n",
    "import glob\n",
    "from PIL import Image\n",
    "from skimage import morphology\n",
    "from tifffile import imread, imwrite\n",
    "from tqdm import tqdm\n",
    "import napari"
   ]
  },
  {
   "cell_type": "code",
   "execution_count": 2,
   "id": "racial-emphasis",
   "metadata": {},
   "outputs": [],
   "source": [
    "def save_stack(imgx, imgy, imgz, d_type = None, return_stacks=True):\n",
    "    imgx_stack = []\n",
    "    imgy_stack = []\n",
    "    imgz_stack = []\n",
    "\n",
    "    for j in tqdm(range(len(imgx))):\n",
    "        ix = Image.open(imgx[j])\n",
    "        iy = Image.open(imgy[j])\n",
    "        iz = Image.open(imgz[j])\n",
    "\n",
    "\n",
    "        ix.load()\n",
    "        iy.load()\n",
    "        iz.load()\n",
    "\n",
    "        #imgc = np.array(imgc, dtype='uint8')\n",
    "        #imgn = np.array(imgn, dtype='uint8')\n",
    "        #imgp = np.array(imgp, dtype='uint8')\n",
    "        if d_type == None:\n",
    "            ix = np.array(ix)\n",
    "            iy = np.array(iy)\n",
    "            iz = np.array(iz)\n",
    "        else:\n",
    "            ix = np.array(ix, dtype=d_type)\n",
    "            iy = np.array(iy, dtype=d_type)\n",
    "            iz = np.array(iz, dtype=d_type)\n",
    "\n",
    "        imgx_stack.append(ix)\n",
    "        imgy_stack.append(iy)\n",
    "        imgz_stack.append(iz)\n",
    "\n",
    "    imgx_stack = np.array(imgx_stack)\n",
    "    imgy_stack = np.array(imgy_stack)\n",
    "    imgz_stack = np.array(imgz_stack)\n",
    "        \n",
    "    if return_stacks == True:\n",
    "        return imgx_stack, imgy_stack, imgz_stack"
   ]
  },
  {
   "cell_type": "code",
   "execution_count": null,
   "id": "requested-english",
   "metadata": {},
   "outputs": [],
   "source": [
    "## rerun=True if running for first time\n",
    "## rerun=False simply loads the new tiffs from file"
   ]
  },
  {
   "cell_type": "markdown",
   "id": "according-departure",
   "metadata": {},
   "source": [
    "## Save/Load data from file"
   ]
  },
  {
   "cell_type": "code",
   "execution_count": 5,
   "id": "further-payroll",
   "metadata": {},
   "outputs": [],
   "source": [
    "rerun = False\n",
    "\n",
    "if rerun == True:\n",
    "    chro = []\n",
    "    for file in glob.glob(\"chromosome_1800_2802/*.jpg\"):\n",
    "        chro.append(file)\n",
    "\n",
    "    nucl = []\n",
    "    for file in glob.glob(\"nucleolus_1800_2802/*.jpg\"):\n",
    "        nucl.append(file)\n",
    "\n",
    "    patt = []\n",
    "    for file in glob.glob(\"pattern_1800_2803/*.jpg\"):\n",
    "        patt.append(file)\n",
    "        \n",
    "    n_imgs = 999\n",
    "\n",
    "    chro = sorted(chro[0:n_imgs])\n",
    "    nucl = sorted(nucl[0:n_imgs])\n",
    "    patt = sorted(patt[0:n_imgs])\n",
    "    chro, nucl, patt= save_stack(chro, nucl, patt)\n",
    "\n",
    "    imwrite('chromosome_1800_2802.tiff', chro)\n",
    "    imwrite('nucleolus_1800_2802.tiff', nucl)\n",
    "    imwrite('pattern_1800_2802.tiff', patt)\n",
    "else:\n",
    "    chro = imread('chromosome_1800_2802.tiff')\n",
    "    nucl = imread('nucleolus_1800_2802.tiff')\n",
    "    patt = imread('pattern_1800_2802.tiff')\n"
   ]
  },
  {
   "cell_type": "markdown",
   "id": "advanced-empty",
   "metadata": {},
   "source": [
    "## Remove nucleolus false positives\n",
    "\n",
    "We use the morphology.remove_small_objects module from sklearn\n",
    "\n",
    "Parameter to toggle is min_size. Would be interesting if this affects watershedding of chromosomes.\n",
    "I settle on min_size values of :\n",
    "- 9500 for nucleolus\n",
    "- 800 for chromosomes\n",
    "- 300 for patterns"
   ]
  },
  {
   "cell_type": "code",
   "execution_count": 7,
   "id": "floating-chase",
   "metadata": {},
   "outputs": [],
   "source": [
    "def clean_stack(img_stack, minim):\n",
    "    cleaned = np.copy(img_stack)\n",
    "    cleaned_index = (cleaned!=0)\n",
    "\n",
    "    for j in tqdm(range(len(cleaned))):\n",
    "        img = cleaned_index[j,:] \n",
    "        img = morphology.remove_small_objects(img, minim, connectivity=1)\n",
    "        target_img = cleaned[j,:,:]\n",
    "\n",
    "        cleaned[j,:,:] = np.multiply(target_img, img)\n",
    "        \n",
    "    return cleaned"
   ]
  },
  {
   "cell_type": "code",
   "execution_count": 8,
   "id": "basic-deployment",
   "metadata": {},
   "outputs": [],
   "source": [
    "if rerun == True:\n",
    "    nucl_cleaned = clean_stack(nucl, min_size=9500)\n",
    "    chro_cleaned = clean_stack(chro, min_size=800)\n",
    "    patt_cleaned = clean_stack(patt, min_size=300)\n",
    "    \n",
    "    imwrite('chromosome_1800_2802_cleaned.tiff', chro_cleaned)\n",
    "    imwrite('nucleolus_1800_2802_cleaned.tiff', nucl_cleaned)\n",
    "    imwrite('pattern_1800_2802_cleaned.tiff', patt_cleaned)\n",
    "else:    \n",
    "    nucl_cleaned = imread('nucleolus_1800_2802_cleaned.tiff')\n",
    "    chro_cleaned = imread('chromosome_1800_2802_cleaned.tiff')\n",
    "    patt_cleaned = imread('pattern_1800_2802_cleaned.tiff')\n",
    "\n"
   ]
  },
  {
   "cell_type": "markdown",
   "id": "novel-subject",
   "metadata": {},
   "source": [
    "## Make movie"
   ]
  },
  {
   "cell_type": "code",
   "execution_count": 14,
   "id": "bearing-project",
   "metadata": {},
   "outputs": [
    {
     "data": {
      "text/plain": [
       "<napari._qt.widgets.qt_viewer_dock_widget.QtViewerDockWidget at 0x7fbf8886d550>"
      ]
     },
     "execution_count": 14,
     "metadata": {},
     "output_type": "execute_result"
    }
   ],
   "source": [
    "from napari_animation import AnimationWidget\n",
    "\n",
    "viewer = napari.Viewer()\n",
    "viewer.add_image(patt_cleaned, name='pattern', colormap='cyan')\n",
    "viewer.add_image(chro_cleaned, name='chromosome', colormap='red')\n",
    "viewer.add_image(nucl_cleaned, name='nucleolus')\n",
    "\n",
    "animation_widget = AnimationWidget(viewer)\n",
    "viewer.window.add_dock_widget(animation_widget, area='right')"
   ]
  },
  {
   "cell_type": "markdown",
   "id": "accredited-camera",
   "metadata": {},
   "source": [
    "## Make GIF"
   ]
  },
  {
   "cell_type": "code",
   "execution_count": 20,
   "id": "advanced-circuit",
   "metadata": {},
   "outputs": [],
   "source": [
    "gif_dir = 'not_aligned'\n",
    "def make_gif(frame_folder, name):\n",
    "    frames = [Image.open(image) for image in glob.glob(f\"{frame_folder}/*.png\")]\n",
    "    frame_one = frames[0]\n",
    "    frame_one.save(name + '.gif', format=\"GIF\", append_images=frames,\n",
    "               save_all=True, duration=100, loop=0)\n",
    "    \n",
    "make_gif(gif_dir, 'my')"
   ]
  },
  {
   "cell_type": "code",
   "execution_count": null,
   "id": "hundred-politics",
   "metadata": {},
   "outputs": [],
   "source": []
  },
  {
   "cell_type": "code",
   "execution_count": null,
   "id": "painted-relation",
   "metadata": {},
   "outputs": [],
   "source": []
  }
 ],
 "metadata": {
  "kernelspec": {
   "display_name": "Python 3",
   "language": "python",
   "name": "python3"
  },
  "language_info": {
   "codemirror_mode": {
    "name": "ipython",
    "version": 3
   },
   "file_extension": ".py",
   "mimetype": "text/x-python",
   "name": "python",
   "nbconvert_exporter": "python",
   "pygments_lexer": "ipython3",
   "version": "3.9.1"
  }
 },
 "nbformat": 4,
 "nbformat_minor": 5
}
